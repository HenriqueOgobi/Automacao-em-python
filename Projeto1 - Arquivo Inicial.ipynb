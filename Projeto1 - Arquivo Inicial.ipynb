{
 "cells": [
  {
   "cell_type": "markdown",
   "id": "a7447279",
   "metadata": {},
   "source": [
    "# Automação de Sistemas e Processos com Python\n",
    "\n",
    "### Desafio:\n",
    "\n",
    "Para controle de custos, todos os dias, seu chefe pede um relatório com todas as compras de mercadorias da empresa.\n",
    "O seu trabalho, como analista, é enviar um e-mail para ele, assim que começar a trabalhar, com o total gasto, a quantidade de produtos compradas e o preço médio dos produtos.\n",
    "\n",
    "E-mail do seu chefe: para o nosso exercício, coloque um e-mail seu como sendo o e-mail do seu chefe<br>\n",
    "Link de acesso ao sistema da empresa: https://pages.hashtagtreinamentos.com/aula1-intensivao-sistema\n",
    "\n",
    "Para resolver isso, vamos usar o pyautogui, uma biblioteca de automação de comandos do mouse e do teclado"
   ]
  },
  {
   "cell_type": "code",
   "execution_count": 14,
   "id": "13c0fc56",
   "metadata": {},
   "outputs": [],
   "source": [
    "!pip install pyautogui"
   ]
  },
  {
   "cell_type": "code",
   "execution_count": 15,
   "id": "ca33d7af",
   "metadata": {},
   "outputs": [],
   "source": [
    "import pyautogui\n",
    "import time\n",
    "# passo a passo\n",
    "\n",
    "pyautogui.PAUSE = 1\n",
    "\n",
    "# entrar no site \n",
    "\n",
    "pyautogui.hotkey(\"ctrl\",\"t\")\n",
    "pyautogui.write(\"https://pages.hashtagtreinamentos.com/aula1-intensivao-sistema\")\n",
    "pyautogui.press(\"enter\")\n",
    "time.sleep(3)\n",
    "\n",
    "# fazer login \n",
    "pyautogui.click(x=878, y=352)\n",
    "pyautogui.write(\"Henrique_Gobi\")\n",
    "pyautogui.click(x=911, y=431)\n",
    "pyautogui.write(\"ilovepythonandhelloworld\")\n",
    "pyautogui.click(x=977, y=500)\n",
    "time.sleep(4)\n",
    "\n",
    "# exportar base de dados\n",
    "pyautogui.click(x=507, y=280)\n",
    "pyautogui.click(x=600, y=772)\n",
    "time.sleep(4)\n",
    "\n"
   ]
  },
  {
   "cell_type": "code",
   "execution_count": 5,
   "id": "1fd635f6",
   "metadata": {},
   "outputs": [
    {
     "name": "stdout",
     "output_type": "stream",
     "text": [
      "7254196.580000061\n",
      "9715\n",
      "746.7006258363418\n"
     ]
    }
   ],
   "source": [
    "# calcular os indicadores\n",
    "import pyautogui\n",
    "import time\n",
    "import pandas\n",
    "\n",
    "tabela = pandas.read_csv(r\"C:\\Users\\user\\Downloads\\compras.csv\", sep=\";\")\n",
    "\n",
    "total_gasto = 0.0\n",
    "\n",
    "for row in tabela[\"ValorFinal\"]:\n",
    "    total_gasto = total_gasto + float(row.replace(\",\",\".\"))\n",
    "\n",
    "quantidade = tabela[\"Quantidade\"].sum()\n",
    "preco_medio = total_gasto / quantidade\n",
    "print(total_gasto)\n",
    "print(quantidade)\n",
    "print(preco_medio)\n"
   ]
  },
  {
   "cell_type": "code",
   "execution_count": null,
   "id": "911d3f06",
   "metadata": {},
   "outputs": [],
   "source": [
    "# enviar email\n",
    "import pyperclip\n",
    "pyautogui.PAUSE = 1\n",
    "\n",
    "pyautogui.hotkey(\"ctrl\",\"t\")\n",
    "pyautogui.write(\"link do email\")\n",
    "pyautogui.press(\"enter\")\n",
    "time.sleep(6)\n",
    "pyautogui.click(x=92, y=144)\n",
    "pyautogui.write(\"email selecionado para envio de informações\")\n",
    "pyautogui.press(\"tab\")\n",
    "pyautogui.press(\"tab\")\n",
    "\n",
    "pyperclip.copy(\"Relatório de Vendas\")\n",
    "pyautogui.hotkey(\"ctrl\", \"v\")\n",
    "pyautogui.press(\"tab\")\n",
    "\n",
    "texto = f\"\"\"\n",
    "Prezados,\n",
    "Segue o relatório de compras\n",
    "total gasto: R${total_gasto:,.2f}\n",
    "quantidade de produtos:{quantidade} \n",
    "preço medio: R${preco_medio:,.2f}\n",
    "\n",
    "qualquer duvida só chamar!\n",
    "att. Gobi\n",
    "\"\"\"\n",
    "pyperclip.copy(texto)\n",
    "pyautogui.hotkey(\"ctrl\", \"v\")\n",
    "\n",
    "pyautogui.hotkey(\"ctrl\",\"enter\")"
   ]
  },
  {
   "cell_type": "code",
   "execution_count": null,
   "id": "74f837a5",
   "metadata": {},
   "outputs": [],
   "source": [
    "#funçao para calcular posição x e y\n",
    "\n",
    "import pyautogui\n",
    "import time\n",
    "\n",
    "time.sleep(5)\n",
    "print(pyautogui.position())"
   ]
  },
  {
   "cell_type": "code",
   "execution_count": null,
   "id": "c8faba73",
   "metadata": {},
   "outputs": [],
   "source": []
  }
 ],
 "metadata": {
  "kernelspec": {
   "display_name": "Python 3 (ipykernel)",
   "language": "python",
   "name": "python3"
  },
  "language_info": {
   "codemirror_mode": {
    "name": "ipython",
    "version": 3
   },
   "file_extension": ".py",
   "mimetype": "text/x-python",
   "name": "python",
   "nbconvert_exporter": "python",
   "pygments_lexer": "ipython3",
   "version": "3.9.13"
  }
 },
 "nbformat": 4,
 "nbformat_minor": 5
}
